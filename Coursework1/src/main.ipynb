{
 "cells": [
  {
   "cell_type": "code",
   "execution_count": 4,
   "metadata": {},
   "outputs": [],
   "source": [
    "# %pip install -r ../../requirements.txt"
   ]
  },
  {
   "cell_type": "code",
   "execution_count": 1,
   "metadata": {},
   "outputs": [],
   "source": [
    "import matplotlib.pyplot as plt\n",
    "import numpy as np\n",
    "from sklearn.datasets import make_blobs\n",
    "\n",
    "from pic import PIC\n",
    "from evaluation import evaluate_clustering_algorithms, plot_clustering_algorithms\n",
    "from datasets import synthetic_dataset_1, synthetic_dataset_2, synthetic_dataset_3"
   ]
  },
  {
   "cell_type": "code",
   "execution_count": 2,
   "metadata": {},
   "outputs": [
    {
     "name": "stdout",
     "output_type": "stream",
     "text": [
      "Time taken for PIC fit_predict: 31.514761447906494 seconds\n"
     ]
    },
    {
     "name": "stderr",
     "output_type": "stream",
     "text": [
      "c:\\Users\\sanch\\Desktop\\MAI\\Semester2\\URL\\mai-url\\.venv\\Lib\\site-packages\\sklearn\\cluster\\_affinity_propagation.py:140: ConvergenceWarning: Affinity propagation did not converge, this model may return degenerate cluster centers and labels.\n",
      "  warnings.warn(\n"
     ]
    },
    {
     "name": "stdout",
     "output_type": "stream",
     "text": [
      "Time taken for PIC fit_predict: 301.097510099411 seconds\n"
     ]
    },
    {
     "name": "stderr",
     "output_type": "stream",
     "text": [
      "c:\\Users\\sanch\\Desktop\\MAI\\Semester2\\URL\\mai-url\\.venv\\Lib\\site-packages\\sklearn\\cluster\\_affinity_propagation.py:140: ConvergenceWarning: Affinity propagation did not converge, this model may return degenerate cluster centers and labels.\n",
      "  warnings.warn(\n",
      "c:\\Users\\sanch\\Desktop\\MAI\\Semester2\\URL\\mai-url\\.venv\\Lib\\site-packages\\sklearn\\manifold\\_spectral_embedding.py:329: UserWarning: Graph is not fully connected, spectral embedding may not work as expected.\n",
      "  warnings.warn(\n"
     ]
    },
    {
     "name": "stdout",
     "output_type": "stream",
     "text": [
      "Time taken for PIC fit_predict: 35.084980964660645 seconds\n"
     ]
    },
    {
     "name": "stderr",
     "output_type": "stream",
     "text": [
      "c:\\Users\\sanch\\Desktop\\MAI\\Semester2\\URL\\mai-url\\.venv\\Lib\\site-packages\\sklearn\\cluster\\_affinity_propagation.py:140: ConvergenceWarning: Affinity propagation did not converge, this model may return degenerate cluster centers and labels.\n",
      "  warnings.warn(\n"
     ]
    }
   ],
   "source": [
    "for i, dataset in enumerate([synthetic_dataset_1, synthetic_dataset_2, synthetic_dataset_3]):\n",
    "    plots_path = f'../data/plots/dataset_{i}'\n",
    "    X, Y_true = dataset(cluster_density=0.75)\n",
    "    n_clusters = int(np.max(Y_true)+1)\n",
    "    pic = PIC(n_clusters=n_clusters, k=20, a=0.95, z=0.01)\n",
    "    Y_pred_PIC = pic.fit_predict(X)\n",
    "\n",
    "    plot_clustering_algorithms(X, Y_true, n_clusters, Y_pred_PIC, plots_path)"
   ]
  },
  {
   "cell_type": "code",
   "execution_count": 5,
   "metadata": {},
   "outputs": [
    {
     "name": "stdout",
     "output_type": "stream",
     "text": [
      "k-med: NMI = 0.6744, CE = 0.1493\n",
      "A-link: NMI = 0.6813, CE = 0.1438\n",
      "S-link: NMI = 0.0211, CE = 0.5882\n",
      "C-link: NMI = 0.6760, CE = 0.1445\n"
     ]
    },
    {
     "name": "stderr",
     "output_type": "stream",
     "text": [
      "c:\\Users\\sanch\\Desktop\\MAI\\Semester2\\URL\\mai-url\\.venv\\Lib\\site-packages\\sklearn\\cluster\\_affinity_propagation.py:140: ConvergenceWarning: Affinity propagation did not converge, this model may return degenerate cluster centers and labels.\n",
      "  warnings.warn(\n"
     ]
    },
    {
     "name": "stdout",
     "output_type": "stream",
     "text": [
      "AP: NMI = 0.2736, CE = 0.9688\n",
      "NCuts: NMI = 0.5730, CE = 0.2972\n",
      "NJW: NMI = 0.5451, CE = 0.3263\n",
      "CT: NMI = 0.5812, CE = 0.2904\n",
      "Zell: NMI = 0.7637, CE = 0.1052\n",
      "C-kernel: NMI = 0.7240, CE = 0.1106\n",
      "D-kernel: NMI = 0.7326, CE = 0.1072\n",
      "   Algorithm       NMI        CE\n",
      "0        PIC  0.991798  0.001357\n",
      "1      k-med  0.674440  0.149254\n",
      "2     A-link  0.681312  0.143826\n",
      "3     S-link  0.021147  0.588195\n",
      "4     C-link  0.675961  0.144505\n",
      "5         AP  0.273570  0.968792\n",
      "6      NCuts  0.572976  0.297151\n",
      "7        NJW  0.545121  0.326323\n",
      "8         CT  0.581190  0.290366\n",
      "9       Zell  0.763676  0.105156\n",
      "10  C-kernel  0.723976  0.110583\n",
      "11  D-kernel  0.732630  0.107191\n"
     ]
    }
   ],
   "source": [
    "results_df = evaluate_clustering_algorithms(X, Y_true, n_clusters, Y_pred_PIC)\n",
    "print(results_df)"
   ]
  },
  {
   "cell_type": "code",
   "execution_count": null,
   "metadata": {},
   "outputs": [],
   "source": []
  }
 ],
 "metadata": {
  "kernelspec": {
   "display_name": ".venv",
   "language": "python",
   "name": "python3"
  },
  "language_info": {
   "codemirror_mode": {
    "name": "ipython",
    "version": 3
   },
   "file_extension": ".py",
   "mimetype": "text/x-python",
   "name": "python",
   "nbconvert_exporter": "python",
   "pygments_lexer": "ipython3",
   "version": "3.12.3"
  }
 },
 "nbformat": 4,
 "nbformat_minor": 2
}
