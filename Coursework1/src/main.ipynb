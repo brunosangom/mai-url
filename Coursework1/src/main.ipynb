{
 "cells": [
  {
   "cell_type": "code",
   "execution_count": 1,
   "metadata": {},
   "outputs": [],
   "source": [
    "# %pip install -r ../../requirements.txt"
   ]
  },
  {
   "cell_type": "code",
   "execution_count": 1,
   "metadata": {},
   "outputs": [],
   "source": [
    "import os\n",
    "import numpy as np\n",
    "import pandas as pd\n",
    "\n",
    "from pic import PIC\n",
    "from evaluation import evaluate_clustering_algorithms, plot_clustering_algorithms, plot_silhouette\n",
    "from datasets import synthetic_dataset_1, synthetic_dataset_2, synthetic_dataset_3, prepare_datasets, load_dataset"
   ]
  },
  {
   "cell_type": "code",
   "execution_count": 2,
   "metadata": {},
   "outputs": [],
   "source": [
    "data_path = '../data'\n",
    "raw_data_path = '../data/raw'\n",
    "prepare_datasets(data_path, raw_data_path)"
   ]
  },
  {
   "cell_type": "code",
   "execution_count": 4,
   "metadata": {},
   "outputs": [
    {
     "name": "stdout",
     "output_type": "stream",
     "text": [
      "Loaded MNIST dataset with shape (5139, 784)\n",
      "Time taken for PIC fit_predict: 188.37566566467285 seconds\n",
      "PIC: NMI = 0.9404, CE = 0.0160, Silhouette = 0.1058\n",
      "k-med: NMI = 0.4905, CE = 0.3563, Silhouette = 0.1013\n",
      "A-link: NMI = 0.4085, CE = 0.5733, Silhouette = 0.1034\n",
      "S-link: NMI = 0.0016, CE = 0.7786, Silhouette = -0.0099\n",
      "C-link: NMI = 0.5389, CE = 0.2804, Silhouette = 0.0933\n",
      "AP: NMI = 0.4258, CE = 0.9597, Silhouette = 0.0599\n",
      "NCuts: NMI = 0.8069, CE = 0.1152, Silhouette = 0.0840\n",
      "NJW: NMI = 0.8977, CE = 0.0333, Silhouette = 0.1114\n",
      "CT: NMI = 0.6342, CE = 0.4927, Silhouette = 0.0088\n",
      "Zell: NMI = 0.9128, CE = 0.0272, Silhouette = 0.1089\n",
      "C-kernel: NMI = 0.7801, CE = 0.1288, Silhouette = 0.0784\n",
      "D-kernel: NMI = 0.9029, CE = 0.0286, Silhouette = 0.1068\n",
      "\n",
      "\n",
      "Loaded USPS dataset with shape (9298, 256)\n",
      "Time taken for PIC fit_predict: 644.951354265213 seconds\n",
      "PIC: NMI = 0.8353, CE = 0.2689, Silhouette = 0.0244\n",
      "k-med: NMI = 0.4690, CE = 0.5505, Silhouette = 0.0868\n",
      "A-link: NMI = 0.1393, CE = 0.7777, Silhouette = 0.0950\n",
      "S-link: NMI = 0.0022, CE = 0.8328, Silhouette = 0.0472\n",
      "C-link: NMI = 0.3738, CE = 0.6006, Silhouette = 0.0404\n",
      "AP: NMI = 0.5246, CE = 0.9342, Silhouette = 0.0779\n",
      "NCuts: NMI = 0.7698, CE = 0.3572, Silhouette = 0.0857\n",
      "NJW: NMI = 0.7842, CE = 0.2688, Silhouette = 0.1159\n",
      "CT: NMI = 0.4385, CE = 0.6146, Silhouette = -0.2117\n",
      "Zell: NMI = 0.8455, CE = 0.1971, Silhouette = 0.1136\n",
      "C-kernel: NMI = 0.7684, CE = 0.2686, Silhouette = 0.0800\n",
      "D-kernel: NMI = 0.8461, CE = 0.1320, Silhouette = 0.1470\n",
      "\n",
      "\n",
      "Loaded Caltech-256 dataset with shape (600, 4200)\n",
      "Time taken for PIC fit_predict: 1.1234877109527588 seconds\n",
      "PIC: NMI = 0.6528, CE = 0.3067, Silhouette = 0.1288\n",
      "k-med: NMI = 0.4663, CE = 0.3850, Silhouette = 0.1392\n",
      "A-link: NMI = 0.3125, CE = 0.6650, Silhouette = 0.1738\n",
      "S-link: NMI = 0.0194, CE = 0.8283, Silhouette = 0.0349\n",
      "C-link: NMI = 0.3954, CE = 0.5067, Silhouette = 0.1014\n",
      "AP: NMI = 0.4921, CE = 0.7050, Silhouette = 0.0631\n",
      "NCuts: NMI = 0.5929, CE = 0.3267, Silhouette = 0.1486\n",
      "NJW: NMI = 0.5289, CE = 0.2900, Silhouette = 0.1143\n",
      "CT: NMI = 0.1812, CE = 0.7467, Silhouette = -0.1588\n",
      "Zell: NMI = 0.3430, CE = 0.6800, Silhouette = 0.0572\n",
      "C-kernel: NMI = 0.5214, CE = 0.3683, Silhouette = 0.1216\n",
      "D-kernel: NMI = 0.5080, CE = 0.3150, Silhouette = 0.1124\n",
      "\n",
      "\n"
     ]
    }
   ],
   "source": [
    "results = {}\n",
    "for dataset in ['MNIST', 'USPS', 'Caltech-256']:\n",
    "    X, Y_true = load_dataset(data_path, dataset)\n",
    "    print(f'Loaded {dataset} dataset with shape {X.shape}')\n",
    "\n",
    "    n_clusters = int(np.max(Y_true)+1)\n",
    "    pic = PIC(n_clusters=n_clusters, k=20, a=0.95, z=0.01)\n",
    "    Y_pred_PIC = pic.fit_predict(X)\n",
    "\n",
    "    results_df = evaluate_clustering_algorithms(X, Y_true, n_clusters, Y_pred_PIC)\n",
    "    results[dataset] = results_df\n"
   ]
  },
  {
   "cell_type": "code",
   "execution_count": null,
   "metadata": {},
   "outputs": [
    {
     "name": "stdout",
     "output_type": "stream",
     "text": [
      "Loaded Iris dataset with shape (150, 4)\n",
      "Time taken for PIC fit_predict: 0.27173900604248047 seconds\n",
      "PIC: NMI = 0.8057, CE = 0.0933, Silhouette = 0.5542\n",
      "k-med: NMI = 0.7582, CE = 0.1067, Silhouette = 0.5528\n",
      "A-link: NMI = 0.8057, CE = 0.0933, Silhouette = 0.5542\n",
      "S-link: NMI = 0.7175, CE = 0.3200, Silhouette = 0.5121\n",
      "C-link: NMI = 0.7221, CE = 0.1600, Silhouette = 0.5136\n",
      "AP: NMI = 0.6694, CE = 0.4867, Silhouette = 0.3474\n",
      "NCuts: NMI = 0.7857, CE = 0.0933, Silhouette = 0.5518\n",
      "Error with NJW: Input X contains NaN.\n",
      "KMeans does not accept missing values encoded as NaN natively. For supervised learning, you might want to consider sklearn.ensemble.HistGradientBoostingClassifier and Regressor which accept missing values encoded as NaNs natively. Alternatively, it is possible to preprocess the data, for instance by using an imputer transformer in a pipeline or drop samples with missing values. See https://scikit-learn.org/stable/modules/impute.html You can find a list of all estimators that handle NaN values at the following page: https://scikit-learn.org/stable/modules/impute.html#estimators-that-handle-nan-values\n",
      "CT: NMI = 0.3970, CE = 0.4333, Silhouette = -0.0524\n"
     ]
    },
    {
     "name": "stderr",
     "output_type": "stream",
     "text": [
      "c:\\Users\\sanch\\Desktop\\MAI\\Semester2\\URL\\mai-url\\.venv\\Lib\\site-packages\\sklearn\\manifold\\_spectral_embedding.py:329: UserWarning: Graph is not fully connected, spectral embedding may not work as expected.\n",
      "  warnings.warn(\n",
      "c:\\Users\\sanch\\Desktop\\MAI\\Semester2\\URL\\mai-url\\Coursework1\\src\\evaluation.py:156: RuntimeWarning: invalid value encountered in divide\n",
      "  Y = eigenvects / rows_norm\n"
     ]
    },
    {
     "name": "stdout",
     "output_type": "stream",
     "text": [
      "Zell: NMI = 0.7857, CE = 0.0933, Silhouette = 0.5507\n",
      "C-kernel: NMI = 0.7772, CE = 0.1200, Silhouette = 0.5499\n",
      "D-kernel: NMI = 0.7629, CE = 0.1133, Silhouette = 0.5528\n",
      "\n",
      "\n",
      "Loaded Breast-Cancer dataset with shape (569, 30)\n",
      "Time taken for PIC fit_predict: 4.196013927459717 seconds\n",
      "PIC: NMI = 0.4085, CE = 0.1810, Silhouette = 0.4007\n",
      "k-med: NMI = 0.4980, CE = 0.1318, Silhouette = 0.6921\n",
      "A-link: NMI = 0.0881, CE = 0.3374, Silhouette = 0.6909\n",
      "S-link: NMI = 0.0052, CE = 0.3708, Silhouette = 0.7990\n",
      "C-link: NMI = 0.0881, CE = 0.3374, Silhouette = 0.6909\n",
      "AP: NMI = 0.2720, CE = 0.8014, Silhouette = 0.3909\n",
      "NCuts: NMI = 0.4200, CE = 0.1740, Silhouette = 0.4083\n",
      "NJW: NMI = 0.0465, CE = 0.3743, Silhouette = 0.2472\n",
      "CT: NMI = 0.4142, CE = 0.1775, Silhouette = 0.4047\n",
      "Zell: NMI = 0.4142, CE = 0.1775, Silhouette = 0.4047\n",
      "C-kernel: NMI = 0.2988, CE = 0.2654, Silhouette = 0.3042\n",
      "D-kernel: NMI = 0.4200, CE = 0.1740, Silhouette = 0.4081\n",
      "\n",
      "\n"
     ]
    }
   ],
   "source": [
    "for dataset in ['Iris', 'Breast-Cancer']:\n",
    "    X, Y_true = load_dataset(data_path, dataset)\n",
    "    print(f'Loaded {dataset} dataset with shape {X.shape}')\n",
    "\n",
    "    n_clusters = int(np.max(Y_true)+1)\n",
    "    pic = PIC(n_clusters=n_clusters, k=20, a=0.95, z=0.01)\n",
    "    Y_pred_PIC = pic.fit_predict(X)\n",
    "\n",
    "    results_df = evaluate_clustering_algorithms(X, Y_true, n_clusters, Y_pred_PIC)\n",
    "    results[dataset] = results_df\n",
    "\n",
    "    plots_path = f'../results/plots/{dataset}'\n",
    "    plot_silhouette(X, Y_pred_PIC, n_clusters, plots_path, dataset)\n"
   ]
  },
  {
   "cell_type": "code",
   "execution_count": 7,
   "metadata": {},
   "outputs": [
    {
     "name": "stdout",
     "output_type": "stream",
     "text": [
      "NMI Scores:\n",
      "              MNIST      USPS  Caltech-256      Iris  Breast-Cancer\n",
      "Algorithm                                                          \n",
      "PIC        0.940414  0.835289     0.652795  0.805694       0.408539\n",
      "k-med      0.490522  0.468998     0.466325  0.758176       0.498036\n",
      "A-link     0.408475  0.139269     0.312531  0.805694       0.088097\n",
      "S-link     0.001565  0.002166     0.019359  0.717464       0.005162\n",
      "C-link     0.538921  0.373770     0.395362  0.722066       0.088097\n",
      "AP         0.425761  0.524590     0.492139  0.669446       0.271973\n",
      "NCuts      0.806937  0.769843     0.592862  0.785665       0.420049\n",
      "NJW        0.897719  0.784214     0.528869       NaN       0.046462\n",
      "CT         0.634169  0.438512     0.181210  0.396983       0.414250\n",
      "Zell       0.912796  0.845529     0.343009  0.785665       0.414250\n",
      "C-kernel   0.780087  0.768363     0.521350  0.777154       0.298794\n",
      "D-kernel   0.902892  0.846122     0.508032  0.762899       0.420049\n",
      "\n",
      "CE Scores:\n",
      "              MNIST      USPS  Caltech-256      Iris  Breast-Cancer\n",
      "Algorithm                                                          \n",
      "PIC        0.015956  0.268875     0.306667  0.093333       0.181019\n",
      "k-med      0.356295  0.550549     0.385000  0.106667       0.131810\n",
      "A-link     0.573263  0.777694     0.665000  0.093333       0.337434\n",
      "S-link     0.778556  0.832760     0.828333  0.320000       0.370826\n",
      "C-link     0.280405  0.600559     0.506667  0.160000       0.337434\n",
      "AP         0.959720  0.934179     0.705000  0.486667       0.801406\n",
      "NCuts      0.115198  0.357174     0.326667  0.093333       0.173989\n",
      "NJW        0.033275  0.268767     0.290000       NaN       0.374341\n",
      "CT         0.492703  0.614648     0.746667  0.433333       0.177504\n",
      "Zell       0.027243  0.197139     0.680000  0.093333       0.177504\n",
      "C-kernel   0.128819  0.268552     0.368333  0.120000       0.265378\n",
      "D-kernel   0.028605  0.131964     0.315000  0.113333       0.173989\n",
      "\n",
      "Silhouette Scores:\n",
      "              MNIST      USPS  Caltech-256      Iris  Breast-Cancer\n",
      "Algorithm                                                          \n",
      "PIC        0.105798  0.024417     0.128765  0.554161       0.400742\n",
      "k-med      0.101330  0.086806     0.139246  0.552819       0.692113\n",
      "A-link     0.103420  0.095043     0.173843  0.554161       0.690935\n",
      "S-link    -0.009855  0.047156     0.034934  0.512111       0.798987\n",
      "C-link     0.093268  0.040379     0.101425  0.513595       0.690935\n",
      "AP         0.059875  0.077852     0.063081  0.347408       0.390927\n",
      "NCuts      0.084033  0.085671     0.148605  0.551818       0.408265\n",
      "NJW        0.111355  0.115941     0.114268       NaN       0.247239\n",
      "CT         0.008759 -0.211740    -0.158795 -0.052438       0.404675\n",
      "Zell       0.108890  0.113554     0.057228  0.550672       0.404675\n",
      "C-kernel   0.078365  0.079986     0.121597  0.549860       0.304156\n",
      "D-kernel   0.106802  0.147006     0.112420  0.552785       0.408141\n"
     ]
    }
   ],
   "source": [
    "# Extract NMI scores\n",
    "nmi_scores = pd.DataFrame()\n",
    "for dataset, df in results.items():\n",
    "    nmi_scores[dataset] = df.set_index('Algorithm')['NMI']\n",
    "\n",
    "# Extract CE scores\n",
    "ce_scores = pd.DataFrame()\n",
    "for dataset, df in results.items():\n",
    "    ce_scores[dataset] = df.set_index('Algorithm')['CE']\n",
    "\n",
    "# Extract Silhouette scores\n",
    "silhouette_scores = pd.DataFrame()\n",
    "for dataset, df in results.items():\n",
    "    silhouette_scores[dataset] = df.set_index('Algorithm')['Silhouette']\n",
    "\n",
    "results_path = '../results'\n",
    "\n",
    "# Print NMI scores table\n",
    "print(\"NMI Scores:\")\n",
    "print(nmi_scores)\n",
    "nmi_scores.to_csv(os.path.join(results_path, 'nmi_scores.csv'))\n",
    "\n",
    "# Print CE scores table\n",
    "print(\"\\nCE Scores:\")\n",
    "print(ce_scores)\n",
    "ce_scores.to_csv(os.path.join(results_path, 'ce_scores.csv'))\n",
    "\n",
    "# Print Silhouette scores table\n",
    "print(\"\\nSilhouette Scores:\")\n",
    "print(silhouette_scores)\n",
    "silhouette_scores.to_csv(os.path.join(results_path, 'silhouette_scores.csv'))"
   ]
  },
  {
   "cell_type": "code",
   "execution_count": null,
   "metadata": {},
   "outputs": [
    {
     "name": "stdout",
     "output_type": "stream",
     "text": [
      "Time taken for PIC fit_predict: 30.657036781311035 seconds\n"
     ]
    },
    {
     "name": "stderr",
     "output_type": "stream",
     "text": [
      "c:\\Users\\sanch\\Desktop\\MAI\\Semester2\\URL\\mai-url\\.venv\\Lib\\site-packages\\sklearn\\cluster\\_affinity_propagation.py:140: ConvergenceWarning: Affinity propagation did not converge, this model may return degenerate cluster centers and labels.\n",
      "  warnings.warn(\n"
     ]
    },
    {
     "name": "stdout",
     "output_type": "stream",
     "text": [
      "Time taken for PIC fit_predict: 341.81405544281006 seconds\n"
     ]
    },
    {
     "name": "stderr",
     "output_type": "stream",
     "text": [
      "c:\\Users\\sanch\\Desktop\\MAI\\Semester2\\URL\\mai-url\\.venv\\Lib\\site-packages\\sklearn\\cluster\\_affinity_propagation.py:140: ConvergenceWarning: Affinity propagation did not converge, this model may return degenerate cluster centers and labels.\n",
      "  warnings.warn(\n",
      "c:\\Users\\sanch\\Desktop\\MAI\\Semester2\\URL\\mai-url\\.venv\\Lib\\site-packages\\sklearn\\manifold\\_spectral_embedding.py:329: UserWarning: Graph is not fully connected, spectral embedding may not work as expected.\n",
      "  warnings.warn(\n"
     ]
    },
    {
     "name": "stdout",
     "output_type": "stream",
     "text": [
      "Time taken for PIC fit_predict: 31.962682247161865 seconds\n"
     ]
    },
    {
     "name": "stderr",
     "output_type": "stream",
     "text": [
      "c:\\Users\\sanch\\Desktop\\MAI\\Semester2\\URL\\mai-url\\.venv\\Lib\\site-packages\\sklearn\\cluster\\_affinity_propagation.py:140: ConvergenceWarning: Affinity propagation did not converge, this model may return degenerate cluster centers and labels.\n",
      "  warnings.warn(\n"
     ]
    }
   ],
   "source": [
    "for i, dataset in enumerate([synthetic_dataset_1, synthetic_dataset_2, synthetic_dataset_3]):\n",
    "    plots_path = f'../results/plots/dataset_{i}'\n",
    "    X, Y_true = dataset(cluster_density=0.75)\n",
    "    n_clusters = int(np.max(Y_true)+1)\n",
    "    pic = PIC(n_clusters=n_clusters, k=20, a=0.95, z=0.01)\n",
    "    Y_pred_PIC = pic.fit_predict(X)\n",
    "\n",
    "    plot_clustering_algorithms(X, Y_true, n_clusters, Y_pred_PIC, plots_path)"
   ]
  },
  {
   "cell_type": "code",
   "execution_count": null,
   "metadata": {},
   "outputs": [],
   "source": []
  }
 ],
 "metadata": {
  "kernelspec": {
   "display_name": ".venv",
   "language": "python",
   "name": "python3"
  },
  "language_info": {
   "codemirror_mode": {
    "name": "ipython",
    "version": 3
   },
   "file_extension": ".py",
   "mimetype": "text/x-python",
   "name": "python",
   "nbconvert_exporter": "python",
   "pygments_lexer": "ipython3",
   "version": "3.12.3"
  }
 },
 "nbformat": 4,
 "nbformat_minor": 2
}
