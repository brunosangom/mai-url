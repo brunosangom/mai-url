{
 "cells": [
  {
   "cell_type": "code",
   "execution_count": 2,
   "metadata": {},
   "outputs": [],
   "source": [
    "# %pip install -r ../../requirements.txt"
   ]
  },
  {
   "cell_type": "code",
   "execution_count": null,
   "metadata": {},
   "outputs": [],
   "source": [
    "import os\n",
    "import numpy as np\n",
    "import pandas as pd\n",
    "\n",
    "from pic import PIC\n",
    "from evaluation import evaluate_clustering_algorithms, plot_clustering_algorithms, plot_silhouette\n",
    "from datasets import synthetic_dataset_1, synthetic_dataset_2, synthetic_dataset_3, prepare_datasets, load_dataset"
   ]
  },
  {
   "cell_type": "code",
   "execution_count": 2,
   "metadata": {},
   "outputs": [],
   "source": [
    "data_path = '../data'\n",
    "raw_data_path = '../data/raw'\n",
    "prepare_datasets(data_path, raw_data_path)"
   ]
  },
  {
   "cell_type": "code",
   "execution_count": null,
   "metadata": {},
   "outputs": [
    {
     "name": "stdout",
     "output_type": "stream",
     "text": [
      "Loaded MNIST dataset with shape (5139, 784)\n",
      "Time taken for PIC fit_predict: 256.05274534225464 seconds\n",
      "k-med: NMI = 0.3180, CE = 0.5338\n",
      "A-link: NMI = 0.4085, CE = 0.5733\n",
      "S-link: NMI = 0.0016, CE = 0.7786\n",
      "C-link: NMI = 0.5389, CE = 0.2804\n",
      "AP: NMI = 0.4258, CE = 0.9597\n",
      "NCuts: NMI = 0.8069, CE = 0.1152\n",
      "NJW: NMI = 0.8977, CE = 0.0333\n",
      "CT: NMI = 0.6342, CE = 0.4927\n",
      "Zell: NMI = 0.9128, CE = 0.0272\n",
      "C-kernel: NMI = 0.7801, CE = 0.1288\n",
      "D-kernel: NMI = 0.9029, CE = 0.0286\n",
      "Loaded USPS dataset with shape (9298, 256)\n",
      "Time taken for PIC fit_predict: 854.7342283725739 seconds\n",
      "k-med: NMI = 0.5527, CE = 0.3729\n",
      "A-link: NMI = 0.1393, CE = 0.7777\n",
      "S-link: NMI = 0.0022, CE = 0.8328\n",
      "C-link: NMI = 0.3738, CE = 0.6006\n",
      "AP: NMI = 0.5246, CE = 0.9342\n",
      "NCuts: NMI = 0.7715, CE = 0.3564\n",
      "NJW: NMI = 0.7842, CE = 0.2688\n",
      "CT: NMI = 0.4385, CE = 0.6146\n",
      "Zell: NMI = 0.8455, CE = 0.1971\n",
      "C-kernel: NMI = 0.7684, CE = 0.2686\n",
      "D-kernel: NMI = 0.8461, CE = 0.1320\n",
      "Loaded Caltech-256 dataset with shape (600, 4200)\n",
      "Time taken for PIC fit_predict: 1.5106959342956543 seconds\n",
      "k-med: NMI = 0.3149, CE = 0.6067\n",
      "A-link: NMI = 0.3125, CE = 0.6650\n",
      "S-link: NMI = 0.0194, CE = 0.8283\n",
      "C-link: NMI = 0.3954, CE = 0.5067\n",
      "AP: NMI = 0.4921, CE = 0.7050\n",
      "NCuts: NMI = 0.5895, CE = 0.3283\n",
      "NJW: NMI = 0.5289, CE = 0.2900\n",
      "CT: NMI = 0.1812, CE = 0.7467\n",
      "Zell: NMI = 0.3430, CE = 0.6800\n",
      "C-kernel: NMI = 0.5214, CE = 0.3683\n",
      "D-kernel: NMI = 0.5080, CE = 0.3150\n"
     ]
    }
   ],
   "source": [
    "results = {}\n",
    "for dataset in ['MNIST', 'USPS', 'Caltech-256']:\n",
    "    X, Y_true = load_dataset(data_path, dataset)\n",
    "    print(f'Loaded {dataset} dataset with shape {X.shape}')\n",
    "\n",
    "    n_clusters = int(np.max(Y_true)+1)\n",
    "    pic = PIC(n_clusters=n_clusters, k=20, a=0.95, z=0.01)\n",
    "    Y_pred_PIC = pic.fit_predict(X)\n",
    "\n",
    "    results_df = evaluate_clustering_algorithms(X, Y_true, n_clusters, Y_pred_PIC)\n",
    "    results[dataset] = results_df\n"
   ]
  },
  {
   "cell_type": "code",
   "execution_count": null,
   "metadata": {},
   "outputs": [],
   "source": [
    "for dataset in ['Iris', 'Breast-Cancer']:\n",
    "    X, Y_true = load_dataset(data_path, dataset)\n",
    "    print(f'Loaded {dataset} dataset with shape {X.shape}')\n",
    "\n",
    "    n_clusters = int(np.max(Y_true)+1)\n",
    "    pic = PIC(n_clusters=n_clusters, k=20, a=0.95, z=0.01)\n",
    "    Y_pred_PIC = pic.fit_predict(X)\n",
    "\n",
    "    results_df = evaluate_clustering_algorithms(X, Y_true, n_clusters, Y_pred_PIC)\n",
    "    results[dataset] = results_df\n",
    "\n",
    "    plots_path = f'../results/plots/{dataset}'\n",
    "    plot_silhouette(X, Y_pred_PIC, plots_path)\n"
   ]
  },
  {
   "cell_type": "code",
   "execution_count": null,
   "metadata": {},
   "outputs": [
    {
     "name": "stdout",
     "output_type": "stream",
     "text": [
      "NMI Scores:\n",
      "              MNIST      USPS  Caltech-256\n",
      "Algorithm                                 \n",
      "PIC        0.940414  0.835289     0.652795\n",
      "k-med      0.318010  0.552715     0.314882\n",
      "A-link     0.408475  0.139269     0.312531\n",
      "S-link     0.001565  0.002166     0.019359\n",
      "C-link     0.538921  0.373770     0.395362\n",
      "AP         0.425761  0.524590     0.492139\n",
      "NCuts      0.806937  0.771538     0.589497\n",
      "NJW        0.897719  0.784214     0.528869\n",
      "CT         0.634169  0.438512     0.181210\n",
      "Zell       0.912796  0.845529     0.343009\n",
      "C-kernel   0.780087  0.768363     0.521350\n",
      "D-kernel   0.902892  0.846122     0.508032\n",
      "\n",
      "CE Scores:\n",
      "              MNIST      USPS  Caltech-256\n",
      "Algorithm                                 \n",
      "PIC        0.015956  0.268875     0.306667\n",
      "k-med      0.533761  0.372876     0.606667\n",
      "A-link     0.573263  0.777694     0.665000\n",
      "S-link     0.778556  0.832760     0.828333\n",
      "C-link     0.280405  0.600559     0.506667\n",
      "AP         0.959720  0.934179     0.705000\n",
      "NCuts      0.115198  0.356421     0.328333\n",
      "NJW        0.033275  0.268767     0.290000\n",
      "CT         0.492703  0.614648     0.746667\n",
      "Zell       0.027243  0.197139     0.680000\n",
      "C-kernel   0.128819  0.268552     0.368333\n",
      "D-kernel   0.028605  0.131964     0.315000\n"
     ]
    }
   ],
   "source": [
    "# Extract NMI scores\n",
    "nmi_scores = pd.DataFrame()\n",
    "for dataset, df in results.items():\n",
    "    nmi_scores[dataset] = df.set_index('Algorithm')['NMI']\n",
    "\n",
    "# Extract CE scores\n",
    "ce_scores = pd.DataFrame()\n",
    "for dataset, df in results.items():\n",
    "    ce_scores[dataset] = df.set_index('Algorithm')['CE']\n",
    "\n",
    "# Extract Silhouette scores\n",
    "silhouette_scores = pd.DataFrame()\n",
    "for dataset, df in results.items():\n",
    "    silhouette_scores[dataset] = df.set_index('Algorithm')['Silhouette']\n",
    "\n",
    "results_path = '../results'\n",
    "\n",
    "# Print NMI scores table\n",
    "print(\"NMI Scores:\")\n",
    "print(nmi_scores)\n",
    "nmi_scores.to_csv(os.path.join(results_path, 'nmi_scores.csv'))\n",
    "\n",
    "# Print CE scores table\n",
    "print(\"\\nCE Scores:\")\n",
    "print(ce_scores)\n",
    "ce_scores.to_csv(os.path.join(results_path, 'ce_scores.csv'))\n",
    "\n",
    "# Print Silhouette scores table\n",
    "print(\"\\nSilhouette Scores:\")\n",
    "print(silhouette_scores)\n",
    "silhouette_scores.to_csv(os.path.join(results_path, 'silhouette_scores.csv'))"
   ]
  },
  {
   "cell_type": "code",
   "execution_count": 3,
   "metadata": {},
   "outputs": [
    {
     "name": "stdout",
     "output_type": "stream",
     "text": [
      "Time taken for PIC fit_predict: 30.657036781311035 seconds\n"
     ]
    },
    {
     "name": "stderr",
     "output_type": "stream",
     "text": [
      "c:\\Users\\sanch\\Desktop\\MAI\\Semester2\\URL\\mai-url\\.venv\\Lib\\site-packages\\sklearn\\cluster\\_affinity_propagation.py:140: ConvergenceWarning: Affinity propagation did not converge, this model may return degenerate cluster centers and labels.\n",
      "  warnings.warn(\n"
     ]
    },
    {
     "name": "stdout",
     "output_type": "stream",
     "text": [
      "Time taken for PIC fit_predict: 341.81405544281006 seconds\n"
     ]
    },
    {
     "name": "stderr",
     "output_type": "stream",
     "text": [
      "c:\\Users\\sanch\\Desktop\\MAI\\Semester2\\URL\\mai-url\\.venv\\Lib\\site-packages\\sklearn\\cluster\\_affinity_propagation.py:140: ConvergenceWarning: Affinity propagation did not converge, this model may return degenerate cluster centers and labels.\n",
      "  warnings.warn(\n",
      "c:\\Users\\sanch\\Desktop\\MAI\\Semester2\\URL\\mai-url\\.venv\\Lib\\site-packages\\sklearn\\manifold\\_spectral_embedding.py:329: UserWarning: Graph is not fully connected, spectral embedding may not work as expected.\n",
      "  warnings.warn(\n"
     ]
    },
    {
     "name": "stdout",
     "output_type": "stream",
     "text": [
      "Time taken for PIC fit_predict: 31.962682247161865 seconds\n"
     ]
    },
    {
     "name": "stderr",
     "output_type": "stream",
     "text": [
      "c:\\Users\\sanch\\Desktop\\MAI\\Semester2\\URL\\mai-url\\.venv\\Lib\\site-packages\\sklearn\\cluster\\_affinity_propagation.py:140: ConvergenceWarning: Affinity propagation did not converge, this model may return degenerate cluster centers and labels.\n",
      "  warnings.warn(\n"
     ]
    }
   ],
   "source": [
    "for i, dataset in enumerate([synthetic_dataset_1, synthetic_dataset_2, synthetic_dataset_3]):\n",
    "    plots_path = f'../results/plots/dataset_{i}'\n",
    "    X, Y_true = dataset(cluster_density=0.75)\n",
    "    n_clusters = int(np.max(Y_true)+1)\n",
    "    pic = PIC(n_clusters=n_clusters, k=20, a=0.95, z=0.01)\n",
    "    Y_pred_PIC = pic.fit_predict(X)\n",
    "\n",
    "    plot_clustering_algorithms(X, Y_true, n_clusters, Y_pred_PIC, plots_path)"
   ]
  },
  {
   "cell_type": "code",
   "execution_count": null,
   "metadata": {},
   "outputs": [],
   "source": []
  }
 ],
 "metadata": {
  "kernelspec": {
   "display_name": ".venv",
   "language": "python",
   "name": "python3"
  },
  "language_info": {
   "codemirror_mode": {
    "name": "ipython",
    "version": 3
   },
   "file_extension": ".py",
   "mimetype": "text/x-python",
   "name": "python",
   "nbconvert_exporter": "python",
   "pygments_lexer": "ipython3",
   "version": "3.12.3"
  }
 },
 "nbformat": 4,
 "nbformat_minor": 2
}
